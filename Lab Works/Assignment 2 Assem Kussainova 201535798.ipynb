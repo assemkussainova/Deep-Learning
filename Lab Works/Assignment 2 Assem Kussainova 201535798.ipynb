{
 "cells": [
  {
   "cell_type": "markdown",
   "metadata": {},
   "source": [
    "# Assignment 2\n",
    "### Student: Assem Kussainova\n",
    "### ID: 201535798"
   ]
  },
  {
   "cell_type": "code",
   "execution_count": 1,
   "metadata": {},
   "outputs": [],
   "source": [
    "import random\n",
    "\n",
    "x = [1, 0, 1]\n",
    "t = 0\n",
    "b = random.uniform(0, 0.2)\n",
    "e = 0.1\n",
    "w = [random.uniform(-1, 1), random.uniform(-1, 1), random.uniform(-1, 1)]"
   ]
  },
  {
   "cell_type": "code",
   "execution_count": 2,
   "metadata": {},
   "outputs": [],
   "source": [
    "def linearFunc(X, weights):\n",
    "    z = b\n",
    "    for i in range(len(X)):\n",
    "        z = z + weights[i] * X[i]\n",
    "    return 1 if z >= 0 else 0"
   ]
  },
  {
   "cell_type": "code",
   "execution_count": 3,
   "metadata": {},
   "outputs": [],
   "source": [
    "def update(Y, T, weights, E, X, B):\n",
    "    count = 0\n",
    "    if Y == T:\n",
    "        print(\"Weights = \", weights, \"bias = \", B)\n",
    "        \n",
    "    while T != Y:\n",
    "        count = count + 1\n",
    "        \n",
    "        if Y > T:\n",
    "            for i in range(len(weights)):\n",
    "                weights[i] = weights[i] - E\n",
    "            B = B - E\n",
    "        else:\n",
    "            for i in range(len(weights)):\n",
    "                weights[i] = weights[i] + E\n",
    "            B = B + E\n",
    "            \n",
    "        Y = linearFunc(X, weights)\n",
    "        print(\"Epoch %d: weights = \" % (count), weights, \"bias = \", B)"
   ]
  },
  {
   "cell_type": "code",
   "execution_count": 4,
   "metadata": {},
   "outputs": [
    {
     "name": "stdout",
     "output_type": "stream",
     "text": [
      "t = 0, y = 1\n",
      "Epoch 1: weights =  [0.3402519898584492, 0.23855885391023954, -0.4005304421168637] bias =  0.06410326536064365\n",
      "Epoch 2: weights =  [0.24025198985844917, 0.13855885391023953, -0.5005304421168637] bias =  -0.03589673463935636\n"
     ]
    }
   ],
   "source": [
    "y = linearFunc(x, w)\n",
    "print(\"t = %d, y = %d\" % (t, y))\n",
    "update(y, t, w, e, x, b)"
   ]
  }
 ],
 "metadata": {
  "kernelspec": {
   "display_name": "Python 3",
   "language": "python",
   "name": "python3"
  },
  "language_info": {
   "codemirror_mode": {
    "name": "ipython",
    "version": 3
   },
   "file_extension": ".py",
   "mimetype": "text/x-python",
   "name": "python",
   "nbconvert_exporter": "python",
   "pygments_lexer": "ipython3",
   "version": "3.7.3"
  }
 },
 "nbformat": 4,
 "nbformat_minor": 2
}
