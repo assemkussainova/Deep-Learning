{
 "cells": [
  {
   "cell_type": "markdown",
   "metadata": {},
   "source": [
    "# Assignment 3\n",
    "\n",
    "### Student: Assem Kussainova\n",
    "### ID: 201535798"
   ]
  },
  {
   "cell_type": "code",
   "execution_count": 1,
   "metadata": {},
   "outputs": [],
   "source": [
    "import numpy as np\n",
    "\n",
    "A = np.array([[0, 0, 0, 0, 1, 1, 0, 0], \n",
    "              [0, 0, 0, 0, 1, 1, 0, 0], \n",
    "              [0, 0, 0, 0, -0.5, 0, 0, 0],\n",
    "              [0, 0, 0, 0, 0, -1.5, 0, 0],\n",
    "              [0, 0, 0, 0, 0, 0, 0, 1],\n",
    "              [0, 0, 0, 0, 0, 0, 0, -1],\n",
    "              [0, 0, 0, 0, 0, 0, 0, -0.5],\n",
    "              [0, 0, 0, 0, 0, 0, 0, 0]])\n",
    "\n",
    "X = [0, 1]\n",
    "\n",
    "target = [0, 1, 1, 0]\n",
    "\n",
    "start_vals = [1, 1, 0, 0, 1, 0]"
   ]
  },
  {
   "cell_type": "code",
   "execution_count": 2,
   "metadata": {},
   "outputs": [],
   "source": [
    "def XOR(x1, x2, a, v):\n",
    "    values = [[x1], [x2], v]\n",
    "    values = [val for sublist in values for val in sublist]\n",
    "    res = values\n",
    "    t = 0\n",
    "    \n",
    "    for i in range(len(values)):\n",
    "        update = np.multiply(A.T, res).sum(axis = 1)\n",
    "        \n",
    "        if values[i] == 0 and update[i] > t:\n",
    "            res[i] = 1\n",
    "        elif values[i] == 0:\n",
    "            res[i] = 0\n",
    "    return res[len(values)-1]"
   ]
  },
  {
   "cell_type": "code",
   "execution_count": 3,
   "metadata": {
    "scrolled": true
   },
   "outputs": [
    {
     "name": "stdout",
     "output_type": "stream",
     "text": [
      "Expected:  0 Obtained:  0\n",
      "Expected:  1 Obtained:  1\n",
      "Expected:  1 Obtained:  1\n",
      "Expected:  0 Obtained:  0\n"
     ]
    }
   ],
   "source": [
    "print('Expected: ', target[0], 'Obtained: ', XOR(X[0], X[0], A, start_vals))\n",
    "print('Expected: ', target[1], 'Obtained: ', XOR(X[0], X[1], A, start_vals))\n",
    "print('Expected: ', target[2], 'Obtained: ', XOR(X[1], X[0], A, start_vals))\n",
    "print('Expected: ', target[3], 'Obtained: ', XOR(X[1], X[1], A, start_vals))"
   ]
  },
  {
   "cell_type": "code",
   "execution_count": null,
   "metadata": {},
   "outputs": [],
   "source": []
  }
 ],
 "metadata": {
  "kernelspec": {
   "display_name": "Python 3",
   "language": "python",
   "name": "python3"
  },
  "language_info": {
   "codemirror_mode": {
    "name": "ipython",
    "version": 3
   },
   "file_extension": ".py",
   "mimetype": "text/x-python",
   "name": "python",
   "nbconvert_exporter": "python",
   "pygments_lexer": "ipython3",
   "version": "3.7.3"
  }
 },
 "nbformat": 4,
 "nbformat_minor": 2
}
